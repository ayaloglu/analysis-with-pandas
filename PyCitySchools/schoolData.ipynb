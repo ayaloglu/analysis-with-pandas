{
 "cells": [
  {
   "cell_type": "code",
   "execution_count": null,
   "id": "5aec7420",
   "metadata": {},
   "outputs": [],
   "source": [
    "import pandas as pd\n"
   ]
  },
  {
   "cell_type": "code",
   "execution_count": null,
   "id": "8c0886e9",
   "metadata": {},
   "outputs": [],
   "source": [
    "# import the csv files\n",
    "\n",
    "school_data = \"Resources/schools_complete.csv\"\n",
    "student_data = \"Resources/students_complete.csv\""
   ]
  },
  {
   "cell_type": "code",
   "execution_count": null,
   "id": "3af849bf",
   "metadata": {},
   "outputs": [],
   "source": [
    "# check out school_data df\n",
    "\n",
    "school_data_df = pd.read_csv(school_data)\n",
    "school_data_df.head()"
   ]
  },
  {
   "cell_type": "code",
   "execution_count": null,
   "id": "369ec367",
   "metadata": {},
   "outputs": [],
   "source": [
    "# check out student_data df\n",
    "\n",
    "student_data_df = pd.read_csv(student_data) \n",
    "student_data_df.head()"
   ]
  },
  {
   "cell_type": "code",
   "execution_count": null,
   "id": "39d9c913",
   "metadata": {},
   "outputs": [],
   "source": [
    "# merge two dfs\n",
    "\n",
    "all_data_df = pd.merge(student_data_df, school_data_df, how=\"outer\", on=[\"school_name\", \"school_name\"])\n",
    "all_data_df.head()"
   ]
  },
  {
   "cell_type": "code",
   "execution_count": null,
   "id": "cce81295",
   "metadata": {},
   "outputs": [],
   "source": [
    "all_data_df.shape"
   ]
  },
  {
   "cell_type": "markdown",
   "id": "03031be0",
   "metadata": {},
   "source": [
    "# Total School, Total Students, Total Budget"
   ]
  },
  {
   "cell_type": "code",
   "execution_count": null,
   "id": "c1b49cb8",
   "metadata": {},
   "outputs": [],
   "source": [
    "# find out the total number of schools\n",
    "\n",
    "total_schools = all_data_df[\"school_name\"]\n",
    "total_schools = total_schools.nunique()\n",
    "total_schools"
   ]
  },
  {
   "cell_type": "code",
   "execution_count": null,
   "id": "0d2664e8",
   "metadata": {},
   "outputs": [],
   "source": [
    "# find out the total number students\n",
    "\n",
    "total_students = all_data_df[\"Student ID\"].nunique()\n",
    "total_students"
   ]
  },
  {
   "cell_type": "code",
   "execution_count": null,
   "id": "6cadea6f",
   "metadata": {},
   "outputs": [],
   "source": [
    "# calculate the total budget\n",
    "\n",
    "total_budget = school_data_df[\"budget\"]\n",
    "total_budget = total_budget.sum()\n",
    "total_budget"
   ]
  },
  {
   "cell_type": "markdown",
   "id": "b0fa0ec2",
   "metadata": {},
   "source": [
    "# Math, Reading Scores and combined percentage"
   ]
  },
  {
   "cell_type": "code",
   "execution_count": null,
   "id": "06c6d8dd",
   "metadata": {},
   "outputs": [],
   "source": [
    "# calculate the average math score\n",
    "\n",
    "average_math_score = all_data_df[\"math_score\"].mean()\n",
    "average_math_score"
   ]
  },
  {
   "cell_type": "code",
   "execution_count": null,
   "id": "d500f308",
   "metadata": {},
   "outputs": [],
   "source": [
    "# calculate the average reading score\n",
    "\n",
    "average_reading_score = all_data_df[\"reading_score\"].mean()\n",
    "average_reading_score"
   ]
  },
  {
   "cell_type": "code",
   "execution_count": null,
   "id": "4a31f115",
   "metadata": {},
   "outputs": [],
   "source": [
    "# students scored at least 70\n",
    "\n",
    "math_passed = all_data_df.loc[all_data_df[\"math_score\"] >= 70, :]\n",
    "math_passed.head()\n"
   ]
  },
  {
   "cell_type": "code",
   "execution_count": null,
   "id": "dba44883",
   "metadata": {},
   "outputs": [],
   "source": [
    "# calculate the percentage of student that passed\n",
    "\n",
    "percent_math_passed =100 * math_passed.shape[0]/all_data_df.shape[0]\n",
    "percent_math_passed"
   ]
  },
  {
   "cell_type": "code",
   "execution_count": null,
   "id": "27053bf5",
   "metadata": {},
   "outputs": [],
   "source": [
    "# student that passed reading (in percent), ie students scored at least 70\n",
    "\n",
    "reading_passed = all_data_df.loc[all_data_df[\"reading_score\"] >= 70, :]\n",
    "reading_passed.shape\n"
   ]
  },
  {
   "cell_type": "code",
   "execution_count": null,
   "id": "55e87d45",
   "metadata": {},
   "outputs": [],
   "source": [
    "percent_reading_passed =100 * reading_passed.shape[0]/all_data_df.shape[0]\n",
    "percent_reading_passed"
   ]
  },
  {
   "cell_type": "code",
   "execution_count": null,
   "id": "6d3ca8b8",
   "metadata": {},
   "outputs": [],
   "source": [
    "reading_passed.head()"
   ]
  },
  {
   "cell_type": "code",
   "execution_count": null,
   "id": "80bfd832",
   "metadata": {},
   "outputs": [],
   "source": [
    "# total of student who passed at least one subject (math or reading)\n",
    "\n",
    "total_percent = pd.merge(math_passed, reading_passed, how=\"inner\", on=[\"Student ID\" , \"Student ID\"])\n",
    "total_percent.shape"
   ]
  },
  {
   "cell_type": "code",
   "execution_count": null,
   "id": "ef81c651",
   "metadata": {},
   "outputs": [],
   "source": [
    "total_percent.head()"
   ]
  },
  {
   "cell_type": "code",
   "execution_count": null,
   "id": "fda5a739",
   "metadata": {},
   "outputs": [],
   "source": [
    "# calculate the total percentage of students who passed at least one subject (math or reading)\n",
    "\n",
    "total_percentage =100 * total_percent.shape[0]/all_data_df.shape[0]\n",
    "total_percentage"
   ]
  },
  {
   "cell_type": "code",
   "execution_count": null,
   "id": "00a3f415",
   "metadata": {},
   "outputs": [],
   "source": [
    "district_summary_df = pd.DataFrame({\"Total Schools\" : [total_schools],\n",
    "                                   \"Total Students\": total_students,\n",
    "                                   \"Total Budget\" : total_budget,\n",
    "                                   \"Average Math Score\" : round(average_math_score,2),\n",
    "                                   \"Average Reading Score\" : round(average_reading_score,2),\n",
    "                                   \" % Passing Math\" : round(percent_math_passed,2),\n",
    "                                   \" % Passing Reading\" : round(percent_reading_passed,2),\n",
    "                                   \"% Overall Passing\" :round(total_percentage,2)}         )\n",
    "district_summary_df"
   ]
  },
  {
   "cell_type": "markdown",
   "id": "08addc14",
   "metadata": {},
   "source": [
    "# School Information"
   ]
  },
  {
   "cell_type": "code",
   "execution_count": null,
   "id": "6672d936",
   "metadata": {},
   "outputs": [],
   "source": [
    "schools = all_data_df[\"school_name\"].unique()\n",
    "print(schools)\n"
   ]
  },
  {
   "cell_type": "code",
   "execution_count": null,
   "id": "4be4a6ad",
   "metadata": {},
   "outputs": [],
   "source": [
    "all_data_df.head()"
   ]
  },
  {
   "cell_type": "code",
   "execution_count": null,
   "id": "cb4e9627",
   "metadata": {},
   "outputs": [],
   "source": [
    "# group by schools\n",
    "\n",
    "groupedby_schools = all_data_df.groupby([\"school_name\"])\n"
   ]
  },
  {
   "cell_type": "code",
   "execution_count": null,
   "id": "8fe57c2a",
   "metadata": {},
   "outputs": [],
   "source": [
    "# school types\n",
    "\n",
    "type_school = groupedby_schools[\"type\"].first()\n",
    "type_school"
   ]
  },
  {
   "cell_type": "code",
   "execution_count": null,
   "id": "25dca7f8",
   "metadata": {},
   "outputs": [],
   "source": [
    "# count total students in each school\n",
    "\n",
    "student_per_school = groupedby_schools[\"Student ID\"].count()\n",
    "student_per_school"
   ]
  },
  {
   "cell_type": "code",
   "execution_count": null,
   "id": "a9b71f75",
   "metadata": {},
   "outputs": [],
   "source": [
    "# total budget for each school\n",
    "\n",
    "budget_per_school =groupedby_schools[\"budget\"].first()\n",
    "budget_per_school"
   ]
  },
  {
   "cell_type": "code",
   "execution_count": null,
   "id": "e486d69e",
   "metadata": {},
   "outputs": [],
   "source": [
    "# calculate budget per student for each school\n",
    "\n",
    "student_budget = budget_per_school/student_per_school\n",
    "student_budget"
   ]
  },
  {
   "cell_type": "code",
   "execution_count": null,
   "id": "e0bbdd00",
   "metadata": {},
   "outputs": [],
   "source": [
    "# average math score per school\n",
    "\n",
    "mean_maths_school = groupedby_schools[\"math_score\"].mean()\n",
    "mean_maths_school"
   ]
  },
  {
   "cell_type": "code",
   "execution_count": null,
   "id": "303b20a4",
   "metadata": {},
   "outputs": [],
   "source": [
    "# average reading score per school\n",
    "\n",
    "mean_reads_school = groupedby_schools[\"reading_score\"].mean()\n",
    "mean_reads_school"
   ]
  },
  {
   "cell_type": "code",
   "execution_count": null,
   "id": "b1e7f786",
   "metadata": {},
   "outputs": [],
   "source": [
    "# Percentage of student who passed math in each school\n",
    "\n",
    "math_passed_byschool = math_passed.groupby([\"school_name\"])\n",
    "percent_math_passed_byschool = 100 * math_passed_byschool[\"Student ID\"].count()/student_per_school\n",
    "percent_math_passed_byschool"
   ]
  },
  {
   "cell_type": "code",
   "execution_count": null,
   "id": "6743cb43",
   "metadata": {},
   "outputs": [],
   "source": [
    "# Percentage of student who passed reading in each school\n",
    "\n",
    "reading_passed_byschool = reading_passed.groupby([\"school_name\"])\n",
    "percent_reading_passed_byschool = 100 * reading_passed_byschool[\"Student ID\"].count()/student_per_school\n",
    "percent_reading_passed_byschool\n"
   ]
  },
  {
   "cell_type": "code",
   "execution_count": null,
   "id": "ca21f95b",
   "metadata": {},
   "outputs": [],
   "source": [
    "# Percentage of student who passed math and reading in each school\n",
    "\n",
    "both_passed_byschool = total_percent.groupby([\"school_name_x\"])\n",
    "total_percentage_passed_byschool = 100 * both_passed_byschool[\"Student ID\"].count()/student_per_school\n",
    "total_percentage_passed_byschool"
   ]
  },
  {
   "cell_type": "code",
   "execution_count": null,
   "id": "bb9109a7",
   "metadata": {},
   "outputs": [],
   "source": [
    "school_summary_df = pd.DataFrame({\"School Types\" : type_school,\n",
    "                                   \"Total Students\": student_per_school,\n",
    "                                   \"Total School Budget\" : budget_per_school.map(\"${: ,}\".format),\n",
    "                                   \"Per Student Budget\" : student_budget,\n",
    "                                   \"Average Math Score\" : round(mean_maths_school,2),\n",
    "                                   \"Average Reading Score\" : round(mean_reads_school),\n",
    "                                   \" %Passing Math\" : round(percent_math_passed_byschool,2),\n",
    "                                   \" % Passing Reading\" : round(percent_reading_passed_byschool,2),\n",
    "                                   \" % Overall Passing\" :round(total_percentage_passed_byschool,2)}         )\n",
    "school_summary_df"
   ]
  },
  {
   "cell_type": "code",
   "execution_count": null,
   "id": "41c10831",
   "metadata": {},
   "outputs": [],
   "source": [
    "top_performig_school_df = pd.DataFrame(school_summary_df).sort_values([\" % Overall Passing\"], ascending=False)[0:5]\n",
    "top_performig_school_df\n"
   ]
  },
  {
   "cell_type": "code",
   "execution_count": null,
   "id": "0c7e99e6",
   "metadata": {},
   "outputs": [],
   "source": [
    "bottom_performig_school_df = pd.DataFrame(school_summary_df).sort_values([\" % Overall Passing\"])[0:5]\n",
    "bottom_performig_school_df"
   ]
  },
  {
   "cell_type": "code",
   "execution_count": null,
   "id": "87e88f7a",
   "metadata": {},
   "outputs": [],
   "source": [
    "#Create a table that lists the average math Score for students of each grade level (9th, 10th, 11th, 12th) at each school.\n",
    "\n",
    "meanmath_bygrade_byschool = all_data_df.groupby([\"school_name\" , \"grade\"]).mean()\n",
    "meanmath_bygrade_byschool= meanmath_bygrade_byschool[\"math_score\"]\n",
    "x = pd.DataFrame(meanmath_bygrade_byschool).reset_index()\n",
    "x.pivot(index=\"school_name\", columns=\"grade\", values=\"math_score\")"
   ]
  },
  {
   "cell_type": "code",
   "execution_count": null,
   "id": "25d56d35",
   "metadata": {},
   "outputs": [],
   "source": [
    "#Create a table that lists the average reading Score for students of each grade level (9th, 10th, 11th, 12th) at each school.\n",
    "\n",
    "meanreading_bygrade_byschool = all_data_df.groupby([\"school_name\" , \"grade\"]).mean()\n",
    "meanreading_bygrade_byschool= meanreading_bygrade_byschool[\"reading_score\"]\n",
    "y = pd.DataFrame(meanreading_bygrade_byschool).reset_index()\n",
    "y.pivot(index=\"school_name\", columns=\"grade\", values=\"reading_score\")"
   ]
  },
  {
   "cell_type": "code",
   "execution_count": null,
   "id": "a38ef18a",
   "metadata": {},
   "outputs": [],
   "source": [
    "#Create a table that breaks down school performances based on average Spending Ranges (Per Student). \n",
    "#Use 4 reasonable bins to group school spending. Include in the table each of the following:\n",
    "#Average Math Score\n",
    "#Average Reading Score\n",
    "#% Passing Math\n",
    "#% Passing ReadingOverall \n",
    "#Passing Rate (Average of the above two)\n",
    "\n",
    "student_budget.min()"
   ]
  },
  {
   "cell_type": "code",
   "execution_count": null,
   "id": "48194952",
   "metadata": {},
   "outputs": [],
   "source": [
    "student_budget.max()"
   ]
  },
  {
   "cell_type": "code",
   "execution_count": null,
   "id": "f955b09f",
   "metadata": {},
   "outputs": [],
   "source": [
    "spending_success_df =school_summary_df\n",
    "bins=[575, 590, 615, 630, 660 ]\n",
    "\n",
    "\n",
    "names =[\"low/$575-$590\", \"medium/$590-$615\", \"high/$615-$630\", \"extra/$630-$660\"]\n",
    "spending_success_df[\"Spending Ranges (Per Student)\"]=pd.cut(spending_success_df[\"Per Student Budget\"],bins, labels=names, include_lowest=True)\n",
    "spending_success_df.head()\n"
   ]
  },
  {
   "cell_type": "code",
   "execution_count": null,
   "id": "1a2fc4d7",
   "metadata": {},
   "outputs": [],
   "source": [
    "spending_perstudent=spending_success_df.groupby([\"Spending Ranges (Per Student)\"]).mean()\n",
    "spending_perstudent"
   ]
  },
  {
   "cell_type": "code",
   "execution_count": null,
   "id": "ed2417e8",
   "metadata": {},
   "outputs": [],
   "source": [
    "spending_perstudent.columns"
   ]
  },
  {
   "cell_type": "code",
   "execution_count": null,
   "id": "72a021a0",
   "metadata": {},
   "outputs": [],
   "source": [
    "spending_perstudent[['Average Math Score',\n",
    "       'Average Reading Score', ' %Passing Math', ' % Passing Reading',\n",
    "       ' % Overall Passing']]"
   ]
  },
  {
   "cell_type": "code",
   "execution_count": null,
   "id": "9c08f01d",
   "metadata": {},
   "outputs": [],
   "source": [
    "#Scores by School Size\n",
    "\n",
    "school_size_success_df = school_summary_df\n",
    "\n",
    "bins=[400,1500, 3000, 5000 ]\n",
    "\n",
    "\n",
    "names =[\"$400-$1500\", \"$1500-$3000\", \"$3000-$5000\"]\n",
    "school_size_success_df[\"School size\"]=pd.cut(school_size_success_df[\"Total Students\"],bins, labels=names, include_lowest=True)\n",
    "school_size_success_df.head()\n",
    "\n"
   ]
  },
  {
   "cell_type": "code",
   "execution_count": null,
   "id": "015fa1c1",
   "metadata": {},
   "outputs": [],
   "source": [
    "#Scores by School size\n",
    "\n",
    "school_size_success_df=school_size_success_df.groupby([\"School size\"]).mean()\n",
    "school_size_success_df"
   ]
  },
  {
   "cell_type": "code",
   "execution_count": null,
   "id": "8257e9ff",
   "metadata": {},
   "outputs": [],
   "source": [
    "school_size_success_df[['Average Math Score',\n",
    "       'Average Reading Score', ' %Passing Math', ' % Passing Reading',\n",
    "       ' % Overall Passing']]"
   ]
  },
  {
   "cell_type": "code",
   "execution_count": null,
   "id": "932a192d",
   "metadata": {},
   "outputs": [],
   "source": [
    "#Scores by School type\n",
    "\n",
    "school_type_success_df = school_summary_df\n",
    "school_type_success_df=school_type_success_df.groupby([\"School Types\"]).mean()\n",
    "school_type_success_df[['Average Math Score',\n",
    "       'Average Reading Score', ' %Passing Math', ' % Passing Reading',\n",
    "       ' % Overall Passing']]\n",
    "\n",
    "\n",
    "\n",
    "\n",
    "\n"
   ]
  },
  {
   "cell_type": "code",
   "execution_count": null,
   "id": "3d9867fc",
   "metadata": {},
   "outputs": [],
   "source": []
  }
 ],
 "metadata": {
  "kernelspec": {
   "display_name": "Python 3",
   "language": "python",
   "name": "python3"
  },
  "language_info": {
   "codemirror_mode": {
    "name": "ipython",
    "version": 3
   },
   "file_extension": ".py",
   "mimetype": "text/x-python",
   "name": "python",
   "nbconvert_exporter": "python",
   "pygments_lexer": "ipython3",
   "version": "3.8.8"
  }
 },
 "nbformat": 4,
 "nbformat_minor": 5
}
